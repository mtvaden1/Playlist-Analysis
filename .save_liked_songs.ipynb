{
 "cells": [
  {
   "attachments": {},
   "cell_type": "markdown",
   "metadata": {},
   "source": [
    "## Get Liked Songs\n",
    "\n",
    "This file loads in the liked songs from my library and saves the song data to a csv. This is done to avoid repeated calls to the Spotify API so that we do not exceed the rate limits."
   ]
  },
  {
   "cell_type": "code",
   "execution_count": 1,
   "metadata": {},
   "outputs": [],
   "source": [
    "import spotipy\n",
    "from spotipy.oauth2 import SpotifyClientCredentials\n",
    "import spotipy.util as util\n",
    "\n",
    "import requests\n",
    "import pandas as pd\n",
    "import numpy as np\n",
    "import json\n",
    "import os\n",
    "import dotenv\n",
    "import sys\n",
    "sys.tracebacklimit = 0 # turn off the error tracebacks\n",
    "\n",
    "from colorthief import ColorThief\n",
    "from urllib.request import urlopen\n",
    "import io\n",
    "\n",
    "from mvspotifyhelper.mvspotifyhelper import MV"
   ]
  },
  {
   "cell_type": "code",
   "execution_count": 2,
   "metadata": {},
   "outputs": [],
   "source": [
    "dotenv.load_dotenv()\n",
    "\n",
    "username = 'michael_vaden'\n",
    "\n",
    "spot_id = os.getenv('spot_id')\n",
    "spot_secret = os.getenv('spot_secret')\n",
    "redirect_uri= 'https://www.virginia.edu/'\n",
    "\n",
    "client_credentials_manager = SpotifyClientCredentials(client_id=spot_id, client_secret=spot_secret)\n",
    "\n",
    "scope = \"playlist-modify-public playlist-modify-private playlist-read-private playlist-read-collaborative user-library-modify user-library-read user-top-read\"\n",
    "\n",
    "token = util.prompt_for_user_token(username, scope, spot_id, spot_secret, redirect_uri, show_dialog=True)\n",
    "\n",
    "sp = spotipy.Spotify(client_credentials_manager=client_credentials_manager, auth=token)"
   ]
  },
  {
   "cell_type": "code",
   "execution_count": 3,
   "metadata": {},
   "outputs": [],
   "source": [
    "liked_songs = MV.get_liked_songs()"
   ]
  },
  {
   "cell_type": "code",
   "execution_count": null,
   "metadata": {},
   "outputs": [],
   "source": [
    "liked_songs = MV.add_song_features(liked_songs[['track.uri', 'track.id', 'track.name', 'track.popularity']].dropna()).drop(['id', 'uri', 'track_href', 'analysis_url', 'type'], axis=1)"
   ]
  }
 ],
 "metadata": {
  "kernelspec": {
   "display_name": "base",
   "language": "python",
   "name": "python3"
  },
  "language_info": {
   "codemirror_mode": {
    "name": "ipython",
    "version": 3
   },
   "file_extension": ".py",
   "mimetype": "text/x-python",
   "name": "python",
   "nbconvert_exporter": "python",
   "pygments_lexer": "ipython3",
   "version": "3.9.12"
  },
  "orig_nbformat": 4
 },
 "nbformat": 4,
 "nbformat_minor": 2
}
