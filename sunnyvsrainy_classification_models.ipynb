{
 "cells": [
  {
   "attachments": {},
   "cell_type": "markdown",
   "metadata": {},
   "source": [
    "## Supervised Learning: Classifying Sunny and Rainy Day Songs"
   ]
  },
  {
   "cell_type": "code",
   "execution_count": 1,
   "metadata": {},
   "outputs": [],
   "source": [
    "import spotipy\n",
    "from spotipy.oauth2 import SpotifyClientCredentials\n",
    "import spotipy.util as util\n",
    "\n",
    "import requests\n",
    "import pandas as pd\n",
    "import numpy as np\n",
    "import json\n",
    "import os\n",
    "import dotenv\n",
    "import sys\n",
    "sys.tracebacklimit = 0 # turn off the error tracebacks\n",
    "\n",
    "from colorthief import ColorThief\n",
    "from urllib.request import urlopen\n",
    "import io\n",
    "\n",
    "from mvspotifyhelper.mvspotifyhelper import MV\n",
    "\n",
    "from sklearn.metrics import accuracy_score, confusion_matrix, precision_score, recall_score, ConfusionMatrixDisplay"
   ]
  },
  {
   "cell_type": "code",
   "execution_count": 2,
   "metadata": {},
   "outputs": [],
   "source": [
    "dotenv.load_dotenv()\n",
    "\n",
    "username = 'michael_vaden'\n",
    "\n",
    "spot_id = os.getenv('spot_id')\n",
    "spot_secret = os.getenv('spot_secret')\n",
    "redirect_uri= 'https://www.virginia.edu/'\n",
    "\n",
    "client_credentials_manager = SpotifyClientCredentials(client_id=spot_id, client_secret=spot_secret)\n",
    "\n",
    "scope = \"playlist-modify-public playlist-modify-private playlist-read-private playlist-read-collaborative user-library-modify\"\n",
    "\n",
    "token = util.prompt_for_user_token(username, scope, spot_id, spot_secret, redirect_uri, show_dialog=True)\n",
    "\n",
    "sp = spotipy.Spotify(client_credentials_manager=client_credentials_manager, auth=token)"
   ]
  },
  {
   "attachments": {},
   "cell_type": "markdown",
   "metadata": {},
   "source": [
    "### Select Sunny and Rainy Themed Playlists\n",
    "\n",
    "*To begin and make sure that this approach holds water*, I selected 3-4 playlists that were publicly available on Spotify for each category of sunny and rainy. These playlists all had more than 10k followers, and were named appropriately (rainy day, rainy days music, sunny day, summer party, etc). Many of these playlists are authored by Spotify. When I had roughly 700 total songs and an approximately balanced dataset, I used my helper functions from my built-in module (mvspotifyhelper) to extract the tracks (songs) and track features from these playlists to compile into a **training set**."
   ]
  },
  {
   "cell_type": "code",
   "execution_count": 3,
   "metadata": {},
   "outputs": [],
   "source": [
    "rainy1 = MV.get_tracks_from_url('spotify', \"https://open.spotify.com/playlist/37i9dQZF1DXbvABJXBIyiY?si=e2da83ce834b40c5\") # rainy day\n",
    "rainy2 = MV.get_tracks_from_url('Circles Records', \"https://open.spotify.com/playlist/3r82Jvzw3SSGKKiKf3dXMM?si=01242f93e6524a23\").loc[:210,] # rainy days music\n",
    "rainy3 = MV.get_tracks_from_url('tiarafernando', \"https://open.spotify.com/playlist/47S4MBG0EEXwA0GdJUA4Ur?si=0e19386208f944c3\") # a playlist for rainy days\n",
    "rainy4 = MV.get_tracks_from_url('spotify', \"https://open.spotify.com/playlist/37i9dQZF1DX3YSRoSdA634?si=1308b6681c504105\") # life sucks"
   ]
  },
  {
   "cell_type": "code",
   "execution_count": 4,
   "metadata": {},
   "outputs": [],
   "source": [
    "sunny1 = MV.get_tracks_from_url('spotify', \"https://open.spotify.com/playlist/37i9dQZF1DX1BzILRveYHb?si=ac80c28e8a104400\") # sunny day\n",
    "sunny2 = MV.get_tracks_from_url('spotify', \"https://open.spotify.com/playlist/37i9dQZF1DXd1MXcE8WTXq?si=8662accbcb644c0e\") # summer throwbacks\n",
    "sunny3 = MV.get_tracks_from_url('spotify', \"https://open.spotify.com/playlist/37i9dQZF1DX5Ozry5U6G0d?si=953f1b53a9584ce7\") # summer party\n",
    "sunny4 = MV.get_tracks_from_url('spotify', \"https://open.spotify.com/playlist/37i9dQZF1DX9fZ7amiNVu6?si=bf527d1910ff4453\") # feel good summer\n",
    "sunny5 = MV.get_tracks_from_url('spotify', \"https://open.spotify.com/playlist/37i9dQZF1DXdPec7aLTmlC?si=63fcdc473f954614\") # happy hits\n",
    "sunny6 = MV.get_tracks_from_url('spotify', \"https://open.spotify.com/playlist/37i9dQZF1DX8FwnYE6PRvL?si=031aaab855c24690\") # rock party\n",
    "sunny7 = MV.get_tracks_from_url('spotify', \"https://open.spotify.com/playlist/37i9dQZF1DX0UrRvztWcAU?si=3cf9b8d0d5d84ae1\") # wake up happy"
   ]
  },
  {
   "cell_type": "code",
   "execution_count": 5,
   "metadata": {},
   "outputs": [],
   "source": [
    "rainy = pd.concat([rainy1, rainy2, rainy3, rainy4]).drop_duplicates('track.uri')\n",
    "#rainy"
   ]
  },
  {
   "cell_type": "code",
   "execution_count": 6,
   "metadata": {},
   "outputs": [],
   "source": [
    "sunny = pd.concat([sunny1, sunny2, sunny3, sunny4, sunny5, sunny6, sunny7]).drop_duplicates('track.uri')\n",
    "#sunny"
   ]
  },
  {
   "cell_type": "code",
   "execution_count": 7,
   "metadata": {},
   "outputs": [],
   "source": [
    "#rainy.describe()\n",
    "rainy = rainy[['track.uri', 'track.id', 'track.name', 'track.popularity']].dropna()"
   ]
  },
  {
   "cell_type": "code",
   "execution_count": 8,
   "metadata": {},
   "outputs": [],
   "source": [
    "#sunny.describe()\n",
    "sunny = sunny[['track.uri', 'track.id', 'track.name', 'track.popularity']].dropna()"
   ]
  },
  {
   "cell_type": "code",
   "execution_count": 9,
   "metadata": {},
   "outputs": [],
   "source": [
    "sunny_features = MV.add_song_features(sunny).drop(['id', 'uri', 'track_href', 'analysis_url', 'type'], axis=1)\n",
    "rainy_features = MV.add_song_features(rainy).drop(['id', 'uri', 'track_href', 'analysis_url', 'type'], axis=1)"
   ]
  },
  {
   "cell_type": "code",
   "execution_count": 11,
   "metadata": {},
   "outputs": [
    {
     "data": {
      "text/html": [
       "<div>\n",
       "<style scoped>\n",
       "    .dataframe tbody tr th:only-of-type {\n",
       "        vertical-align: middle;\n",
       "    }\n",
       "\n",
       "    .dataframe tbody tr th {\n",
       "        vertical-align: top;\n",
       "    }\n",
       "\n",
       "    .dataframe thead th {\n",
       "        text-align: right;\n",
       "    }\n",
       "</style>\n",
       "<table border=\"1\" class=\"dataframe\">\n",
       "  <thead>\n",
       "    <tr style=\"text-align: right;\">\n",
       "      <th></th>\n",
       "      <th>track.uri</th>\n",
       "      <th>track.id</th>\n",
       "      <th>track.name</th>\n",
       "      <th>track.popularity</th>\n",
       "      <th>danceability</th>\n",
       "      <th>energy</th>\n",
       "      <th>key</th>\n",
       "      <th>loudness</th>\n",
       "      <th>mode</th>\n",
       "      <th>speechiness</th>\n",
       "      <th>acousticness</th>\n",
       "      <th>instrumentalness</th>\n",
       "      <th>liveness</th>\n",
       "      <th>valence</th>\n",
       "      <th>tempo</th>\n",
       "      <th>duration_ms</th>\n",
       "      <th>time_signature</th>\n",
       "      <th>weather_type</th>\n",
       "    </tr>\n",
       "  </thead>\n",
       "  <tbody>\n",
       "    <tr>\n",
       "      <th>0</th>\n",
       "      <td>spotify:track:3ZpQiJ78LKINrW9SQTgbXd</td>\n",
       "      <td>3ZpQiJ78LKINrW9SQTgbXd</td>\n",
       "      <td>All I Wanna Do</td>\n",
       "      <td>74.0</td>\n",
       "      <td>0.820</td>\n",
       "      <td>0.528</td>\n",
       "      <td>9</td>\n",
       "      <td>-11.179</td>\n",
       "      <td>1</td>\n",
       "      <td>0.0321</td>\n",
       "      <td>0.1110</td>\n",
       "      <td>0.01860</td>\n",
       "      <td>0.2570</td>\n",
       "      <td>0.931</td>\n",
       "      <td>120.091</td>\n",
       "      <td>272107</td>\n",
       "      <td>4</td>\n",
       "      <td>sun</td>\n",
       "    </tr>\n",
       "    <tr>\n",
       "      <th>1</th>\n",
       "      <td>spotify:track:3XKIUb7HzIF1Vu9usunMzc</td>\n",
       "      <td>3XKIUb7HzIF1Vu9usunMzc</td>\n",
       "      <td>Maria Maria (feat. The Product G&amp;B)</td>\n",
       "      <td>82.0</td>\n",
       "      <td>0.777</td>\n",
       "      <td>0.601</td>\n",
       "      <td>2</td>\n",
       "      <td>-5.931</td>\n",
       "      <td>1</td>\n",
       "      <td>0.1260</td>\n",
       "      <td>0.0406</td>\n",
       "      <td>0.00201</td>\n",
       "      <td>0.0348</td>\n",
       "      <td>0.680</td>\n",
       "      <td>97.911</td>\n",
       "      <td>261973</td>\n",
       "      <td>4</td>\n",
       "      <td>sun</td>\n",
       "    </tr>\n",
       "    <tr>\n",
       "      <th>2</th>\n",
       "      <td>spotify:track:0ofHAoxe9vBkTCp2UQIavz</td>\n",
       "      <td>0ofHAoxe9vBkTCp2UQIavz</td>\n",
       "      <td>Dreams - 2004 Remaster</td>\n",
       "      <td>87.0</td>\n",
       "      <td>0.828</td>\n",
       "      <td>0.492</td>\n",
       "      <td>0</td>\n",
       "      <td>-9.744</td>\n",
       "      <td>1</td>\n",
       "      <td>0.0276</td>\n",
       "      <td>0.0644</td>\n",
       "      <td>0.00428</td>\n",
       "      <td>0.1280</td>\n",
       "      <td>0.789</td>\n",
       "      <td>120.151</td>\n",
       "      <td>257800</td>\n",
       "      <td>4</td>\n",
       "      <td>sun</td>\n",
       "    </tr>\n",
       "    <tr>\n",
       "      <th>3</th>\n",
       "      <td>spotify:track:0bRXwKfigvpKZUurwqAlEh</td>\n",
       "      <td>0bRXwKfigvpKZUurwqAlEh</td>\n",
       "      <td>Lovely Day</td>\n",
       "      <td>81.0</td>\n",
       "      <td>0.692</td>\n",
       "      <td>0.651</td>\n",
       "      <td>9</td>\n",
       "      <td>-8.267</td>\n",
       "      <td>1</td>\n",
       "      <td>0.0324</td>\n",
       "      <td>0.2920</td>\n",
       "      <td>0.00241</td>\n",
       "      <td>0.1050</td>\n",
       "      <td>0.706</td>\n",
       "      <td>97.923</td>\n",
       "      <td>254560</td>\n",
       "      <td>4</td>\n",
       "      <td>sun</td>\n",
       "    </tr>\n",
       "    <tr>\n",
       "      <th>4</th>\n",
       "      <td>spotify:track:1YLJVmuzeM2YSUkCCaTNUB</td>\n",
       "      <td>1YLJVmuzeM2YSUkCCaTNUB</td>\n",
       "      <td>Dog Days Are Over</td>\n",
       "      <td>79.0</td>\n",
       "      <td>0.492</td>\n",
       "      <td>0.810</td>\n",
       "      <td>7</td>\n",
       "      <td>-5.315</td>\n",
       "      <td>1</td>\n",
       "      <td>0.0847</td>\n",
       "      <td>0.0416</td>\n",
       "      <td>0.00379</td>\n",
       "      <td>0.1170</td>\n",
       "      <td>0.245</td>\n",
       "      <td>149.954</td>\n",
       "      <td>251840</td>\n",
       "      <td>4</td>\n",
       "      <td>sun</td>\n",
       "    </tr>\n",
       "    <tr>\n",
       "      <th>...</th>\n",
       "      <td>...</td>\n",
       "      <td>...</td>\n",
       "      <td>...</td>\n",
       "      <td>...</td>\n",
       "      <td>...</td>\n",
       "      <td>...</td>\n",
       "      <td>...</td>\n",
       "      <td>...</td>\n",
       "      <td>...</td>\n",
       "      <td>...</td>\n",
       "      <td>...</td>\n",
       "      <td>...</td>\n",
       "      <td>...</td>\n",
       "      <td>...</td>\n",
       "      <td>...</td>\n",
       "      <td>...</td>\n",
       "      <td>...</td>\n",
       "      <td>...</td>\n",
       "    </tr>\n",
       "    <tr>\n",
       "      <th>554</th>\n",
       "      <td>spotify:track:5jx8tCxiO0uIbo2uNia23K</td>\n",
       "      <td>5jx8tCxiO0uIbo2uNia23K</td>\n",
       "      <td>The One That Got Away - Acoustic</td>\n",
       "      <td>68.0</td>\n",
       "      <td>0.714</td>\n",
       "      <td>0.434</td>\n",
       "      <td>4</td>\n",
       "      <td>-11.542</td>\n",
       "      <td>1</td>\n",
       "      <td>0.0396</td>\n",
       "      <td>0.6970</td>\n",
       "      <td>0.00000</td>\n",
       "      <td>0.0919</td>\n",
       "      <td>0.352</td>\n",
       "      <td>123.942</td>\n",
       "      <td>259040</td>\n",
       "      <td>4</td>\n",
       "      <td>rain</td>\n",
       "    </tr>\n",
       "    <tr>\n",
       "      <th>555</th>\n",
       "      <td>spotify:track:7gY3cyGcB2wnk2xDXiA0pe</td>\n",
       "      <td>7gY3cyGcB2wnk2xDXiA0pe</td>\n",
       "      <td>Head Above Water</td>\n",
       "      <td>66.0</td>\n",
       "      <td>0.578</td>\n",
       "      <td>0.694</td>\n",
       "      <td>5</td>\n",
       "      <td>-5.351</td>\n",
       "      <td>1</td>\n",
       "      <td>0.0706</td>\n",
       "      <td>0.0112</td>\n",
       "      <td>0.00000</td>\n",
       "      <td>0.1020</td>\n",
       "      <td>0.268</td>\n",
       "      <td>129.921</td>\n",
       "      <td>220850</td>\n",
       "      <td>4</td>\n",
       "      <td>rain</td>\n",
       "    </tr>\n",
       "    <tr>\n",
       "      <th>556</th>\n",
       "      <td>spotify:track:6D2tzc8kRnZb7P1lNwMBLH</td>\n",
       "      <td>6D2tzc8kRnZb7P1lNwMBLH</td>\n",
       "      <td>Close To You</td>\n",
       "      <td>62.0</td>\n",
       "      <td>0.494</td>\n",
       "      <td>0.170</td>\n",
       "      <td>10</td>\n",
       "      <td>-11.368</td>\n",
       "      <td>1</td>\n",
       "      <td>0.0337</td>\n",
       "      <td>0.8950</td>\n",
       "      <td>0.00000</td>\n",
       "      <td>0.1390</td>\n",
       "      <td>0.145</td>\n",
       "      <td>80.098</td>\n",
       "      <td>223213</td>\n",
       "      <td>4</td>\n",
       "      <td>rain</td>\n",
       "    </tr>\n",
       "    <tr>\n",
       "      <th>557</th>\n",
       "      <td>spotify:track:2bdqU7C4softKNcMYDFi96</td>\n",
       "      <td>2bdqU7C4softKNcMYDFi96</td>\n",
       "      <td>chaotic</td>\n",
       "      <td>66.0</td>\n",
       "      <td>0.412</td>\n",
       "      <td>0.382</td>\n",
       "      <td>2</td>\n",
       "      <td>-7.023</td>\n",
       "      <td>0</td>\n",
       "      <td>0.0497</td>\n",
       "      <td>0.5900</td>\n",
       "      <td>0.00000</td>\n",
       "      <td>0.0931</td>\n",
       "      <td>0.318</td>\n",
       "      <td>81.493</td>\n",
       "      <td>178721</td>\n",
       "      <td>3</td>\n",
       "      <td>rain</td>\n",
       "    </tr>\n",
       "    <tr>\n",
       "      <th>558</th>\n",
       "      <td>spotify:track:2Kqw2ECnErSCU9bxPSVgGx</td>\n",
       "      <td>2Kqw2ECnErSCU9bxPSVgGx</td>\n",
       "      <td>Bigger Person</td>\n",
       "      <td>78.0</td>\n",
       "      <td>0.503</td>\n",
       "      <td>0.358</td>\n",
       "      <td>7</td>\n",
       "      <td>-8.158</td>\n",
       "      <td>1</td>\n",
       "      <td>0.0537</td>\n",
       "      <td>0.4010</td>\n",
       "      <td>0.00000</td>\n",
       "      <td>0.1580</td>\n",
       "      <td>0.179</td>\n",
       "      <td>105.121</td>\n",
       "      <td>161367</td>\n",
       "      <td>4</td>\n",
       "      <td>rain</td>\n",
       "    </tr>\n",
       "  </tbody>\n",
       "</table>\n",
       "<p>1138 rows × 18 columns</p>\n",
       "</div>"
      ],
      "text/plain": [
       "                                track.uri                track.id  \\\n",
       "0    spotify:track:3ZpQiJ78LKINrW9SQTgbXd  3ZpQiJ78LKINrW9SQTgbXd   \n",
       "1    spotify:track:3XKIUb7HzIF1Vu9usunMzc  3XKIUb7HzIF1Vu9usunMzc   \n",
       "2    spotify:track:0ofHAoxe9vBkTCp2UQIavz  0ofHAoxe9vBkTCp2UQIavz   \n",
       "3    spotify:track:0bRXwKfigvpKZUurwqAlEh  0bRXwKfigvpKZUurwqAlEh   \n",
       "4    spotify:track:1YLJVmuzeM2YSUkCCaTNUB  1YLJVmuzeM2YSUkCCaTNUB   \n",
       "..                                    ...                     ...   \n",
       "554  spotify:track:5jx8tCxiO0uIbo2uNia23K  5jx8tCxiO0uIbo2uNia23K   \n",
       "555  spotify:track:7gY3cyGcB2wnk2xDXiA0pe  7gY3cyGcB2wnk2xDXiA0pe   \n",
       "556  spotify:track:6D2tzc8kRnZb7P1lNwMBLH  6D2tzc8kRnZb7P1lNwMBLH   \n",
       "557  spotify:track:2bdqU7C4softKNcMYDFi96  2bdqU7C4softKNcMYDFi96   \n",
       "558  spotify:track:2Kqw2ECnErSCU9bxPSVgGx  2Kqw2ECnErSCU9bxPSVgGx   \n",
       "\n",
       "                              track.name  track.popularity  danceability  \\\n",
       "0                         All I Wanna Do              74.0         0.820   \n",
       "1    Maria Maria (feat. The Product G&B)              82.0         0.777   \n",
       "2                 Dreams - 2004 Remaster              87.0         0.828   \n",
       "3                             Lovely Day              81.0         0.692   \n",
       "4                      Dog Days Are Over              79.0         0.492   \n",
       "..                                   ...               ...           ...   \n",
       "554     The One That Got Away - Acoustic              68.0         0.714   \n",
       "555                     Head Above Water              66.0         0.578   \n",
       "556                         Close To You              62.0         0.494   \n",
       "557                              chaotic              66.0         0.412   \n",
       "558                        Bigger Person              78.0         0.503   \n",
       "\n",
       "     energy  key  loudness  mode  speechiness  acousticness  instrumentalness  \\\n",
       "0     0.528    9   -11.179     1       0.0321        0.1110           0.01860   \n",
       "1     0.601    2    -5.931     1       0.1260        0.0406           0.00201   \n",
       "2     0.492    0    -9.744     1       0.0276        0.0644           0.00428   \n",
       "3     0.651    9    -8.267     1       0.0324        0.2920           0.00241   \n",
       "4     0.810    7    -5.315     1       0.0847        0.0416           0.00379   \n",
       "..      ...  ...       ...   ...          ...           ...               ...   \n",
       "554   0.434    4   -11.542     1       0.0396        0.6970           0.00000   \n",
       "555   0.694    5    -5.351     1       0.0706        0.0112           0.00000   \n",
       "556   0.170   10   -11.368     1       0.0337        0.8950           0.00000   \n",
       "557   0.382    2    -7.023     0       0.0497        0.5900           0.00000   \n",
       "558   0.358    7    -8.158     1       0.0537        0.4010           0.00000   \n",
       "\n",
       "     liveness  valence    tempo  duration_ms  time_signature weather_type  \n",
       "0      0.2570    0.931  120.091       272107               4          sun  \n",
       "1      0.0348    0.680   97.911       261973               4          sun  \n",
       "2      0.1280    0.789  120.151       257800               4          sun  \n",
       "3      0.1050    0.706   97.923       254560               4          sun  \n",
       "4      0.1170    0.245  149.954       251840               4          sun  \n",
       "..        ...      ...      ...          ...             ...          ...  \n",
       "554    0.0919    0.352  123.942       259040               4         rain  \n",
       "555    0.1020    0.268  129.921       220850               4         rain  \n",
       "556    0.1390    0.145   80.098       223213               4         rain  \n",
       "557    0.0931    0.318   81.493       178721               3         rain  \n",
       "558    0.1580    0.179  105.121       161367               4         rain  \n",
       "\n",
       "[1138 rows x 18 columns]"
      ]
     },
     "execution_count": 11,
     "metadata": {},
     "output_type": "execute_result"
    }
   ],
   "source": [
    "sunny_features['weather_type'] = 'sun'\n",
    "rainy_features['weather_type'] = 'rain'\n",
    "weather_songs = pd.concat([sunny_features, rainy_features])\n",
    "weather_songs"
   ]
  },
  {
   "cell_type": "code",
   "execution_count": 12,
   "metadata": {},
   "outputs": [
    {
     "data": {
      "text/plain": [
       "sun     579\n",
       "rain    559\n",
       "Name: weather_type, dtype: int64"
      ]
     },
     "execution_count": 12,
     "metadata": {},
     "output_type": "execute_result"
    }
   ],
   "source": [
    "weather_songs['weather_type'].value_counts()"
   ]
  },
  {
   "cell_type": "code",
   "execution_count": 13,
   "metadata": {},
   "outputs": [
    {
     "data": {
      "text/html": [
       "<div>\n",
       "<style scoped>\n",
       "    .dataframe tbody tr th:only-of-type {\n",
       "        vertical-align: middle;\n",
       "    }\n",
       "\n",
       "    .dataframe tbody tr th {\n",
       "        vertical-align: top;\n",
       "    }\n",
       "\n",
       "    .dataframe thead th {\n",
       "        text-align: right;\n",
       "    }\n",
       "</style>\n",
       "<table border=\"1\" class=\"dataframe\">\n",
       "  <thead>\n",
       "    <tr style=\"text-align: right;\">\n",
       "      <th></th>\n",
       "      <th>track.popularity</th>\n",
       "      <th>danceability</th>\n",
       "      <th>energy</th>\n",
       "      <th>key</th>\n",
       "      <th>loudness</th>\n",
       "      <th>mode</th>\n",
       "      <th>speechiness</th>\n",
       "      <th>acousticness</th>\n",
       "      <th>instrumentalness</th>\n",
       "      <th>liveness</th>\n",
       "      <th>valence</th>\n",
       "      <th>tempo</th>\n",
       "      <th>duration_ms</th>\n",
       "      <th>time_signature</th>\n",
       "      <th>weather_type</th>\n",
       "    </tr>\n",
       "  </thead>\n",
       "  <tbody>\n",
       "    <tr>\n",
       "      <th>0</th>\n",
       "      <td>74.0</td>\n",
       "      <td>0.820</td>\n",
       "      <td>0.528</td>\n",
       "      <td>9</td>\n",
       "      <td>-11.179</td>\n",
       "      <td>1</td>\n",
       "      <td>0.0321</td>\n",
       "      <td>0.1110</td>\n",
       "      <td>0.01860</td>\n",
       "      <td>0.2570</td>\n",
       "      <td>0.931</td>\n",
       "      <td>120.091</td>\n",
       "      <td>272107</td>\n",
       "      <td>4</td>\n",
       "      <td>1</td>\n",
       "    </tr>\n",
       "    <tr>\n",
       "      <th>1</th>\n",
       "      <td>82.0</td>\n",
       "      <td>0.777</td>\n",
       "      <td>0.601</td>\n",
       "      <td>2</td>\n",
       "      <td>-5.931</td>\n",
       "      <td>1</td>\n",
       "      <td>0.1260</td>\n",
       "      <td>0.0406</td>\n",
       "      <td>0.00201</td>\n",
       "      <td>0.0348</td>\n",
       "      <td>0.680</td>\n",
       "      <td>97.911</td>\n",
       "      <td>261973</td>\n",
       "      <td>4</td>\n",
       "      <td>1</td>\n",
       "    </tr>\n",
       "    <tr>\n",
       "      <th>2</th>\n",
       "      <td>87.0</td>\n",
       "      <td>0.828</td>\n",
       "      <td>0.492</td>\n",
       "      <td>0</td>\n",
       "      <td>-9.744</td>\n",
       "      <td>1</td>\n",
       "      <td>0.0276</td>\n",
       "      <td>0.0644</td>\n",
       "      <td>0.00428</td>\n",
       "      <td>0.1280</td>\n",
       "      <td>0.789</td>\n",
       "      <td>120.151</td>\n",
       "      <td>257800</td>\n",
       "      <td>4</td>\n",
       "      <td>1</td>\n",
       "    </tr>\n",
       "    <tr>\n",
       "      <th>3</th>\n",
       "      <td>81.0</td>\n",
       "      <td>0.692</td>\n",
       "      <td>0.651</td>\n",
       "      <td>9</td>\n",
       "      <td>-8.267</td>\n",
       "      <td>1</td>\n",
       "      <td>0.0324</td>\n",
       "      <td>0.2920</td>\n",
       "      <td>0.00241</td>\n",
       "      <td>0.1050</td>\n",
       "      <td>0.706</td>\n",
       "      <td>97.923</td>\n",
       "      <td>254560</td>\n",
       "      <td>4</td>\n",
       "      <td>1</td>\n",
       "    </tr>\n",
       "    <tr>\n",
       "      <th>4</th>\n",
       "      <td>79.0</td>\n",
       "      <td>0.492</td>\n",
       "      <td>0.810</td>\n",
       "      <td>7</td>\n",
       "      <td>-5.315</td>\n",
       "      <td>1</td>\n",
       "      <td>0.0847</td>\n",
       "      <td>0.0416</td>\n",
       "      <td>0.00379</td>\n",
       "      <td>0.1170</td>\n",
       "      <td>0.245</td>\n",
       "      <td>149.954</td>\n",
       "      <td>251840</td>\n",
       "      <td>4</td>\n",
       "      <td>1</td>\n",
       "    </tr>\n",
       "    <tr>\n",
       "      <th>...</th>\n",
       "      <td>...</td>\n",
       "      <td>...</td>\n",
       "      <td>...</td>\n",
       "      <td>...</td>\n",
       "      <td>...</td>\n",
       "      <td>...</td>\n",
       "      <td>...</td>\n",
       "      <td>...</td>\n",
       "      <td>...</td>\n",
       "      <td>...</td>\n",
       "      <td>...</td>\n",
       "      <td>...</td>\n",
       "      <td>...</td>\n",
       "      <td>...</td>\n",
       "      <td>...</td>\n",
       "    </tr>\n",
       "    <tr>\n",
       "      <th>554</th>\n",
       "      <td>68.0</td>\n",
       "      <td>0.714</td>\n",
       "      <td>0.434</td>\n",
       "      <td>4</td>\n",
       "      <td>-11.542</td>\n",
       "      <td>1</td>\n",
       "      <td>0.0396</td>\n",
       "      <td>0.6970</td>\n",
       "      <td>0.00000</td>\n",
       "      <td>0.0919</td>\n",
       "      <td>0.352</td>\n",
       "      <td>123.942</td>\n",
       "      <td>259040</td>\n",
       "      <td>4</td>\n",
       "      <td>0</td>\n",
       "    </tr>\n",
       "    <tr>\n",
       "      <th>555</th>\n",
       "      <td>66.0</td>\n",
       "      <td>0.578</td>\n",
       "      <td>0.694</td>\n",
       "      <td>5</td>\n",
       "      <td>-5.351</td>\n",
       "      <td>1</td>\n",
       "      <td>0.0706</td>\n",
       "      <td>0.0112</td>\n",
       "      <td>0.00000</td>\n",
       "      <td>0.1020</td>\n",
       "      <td>0.268</td>\n",
       "      <td>129.921</td>\n",
       "      <td>220850</td>\n",
       "      <td>4</td>\n",
       "      <td>0</td>\n",
       "    </tr>\n",
       "    <tr>\n",
       "      <th>556</th>\n",
       "      <td>62.0</td>\n",
       "      <td>0.494</td>\n",
       "      <td>0.170</td>\n",
       "      <td>10</td>\n",
       "      <td>-11.368</td>\n",
       "      <td>1</td>\n",
       "      <td>0.0337</td>\n",
       "      <td>0.8950</td>\n",
       "      <td>0.00000</td>\n",
       "      <td>0.1390</td>\n",
       "      <td>0.145</td>\n",
       "      <td>80.098</td>\n",
       "      <td>223213</td>\n",
       "      <td>4</td>\n",
       "      <td>0</td>\n",
       "    </tr>\n",
       "    <tr>\n",
       "      <th>557</th>\n",
       "      <td>66.0</td>\n",
       "      <td>0.412</td>\n",
       "      <td>0.382</td>\n",
       "      <td>2</td>\n",
       "      <td>-7.023</td>\n",
       "      <td>0</td>\n",
       "      <td>0.0497</td>\n",
       "      <td>0.5900</td>\n",
       "      <td>0.00000</td>\n",
       "      <td>0.0931</td>\n",
       "      <td>0.318</td>\n",
       "      <td>81.493</td>\n",
       "      <td>178721</td>\n",
       "      <td>3</td>\n",
       "      <td>0</td>\n",
       "    </tr>\n",
       "    <tr>\n",
       "      <th>558</th>\n",
       "      <td>78.0</td>\n",
       "      <td>0.503</td>\n",
       "      <td>0.358</td>\n",
       "      <td>7</td>\n",
       "      <td>-8.158</td>\n",
       "      <td>1</td>\n",
       "      <td>0.0537</td>\n",
       "      <td>0.4010</td>\n",
       "      <td>0.00000</td>\n",
       "      <td>0.1580</td>\n",
       "      <td>0.179</td>\n",
       "      <td>105.121</td>\n",
       "      <td>161367</td>\n",
       "      <td>4</td>\n",
       "      <td>0</td>\n",
       "    </tr>\n",
       "  </tbody>\n",
       "</table>\n",
       "<p>1138 rows × 15 columns</p>\n",
       "</div>"
      ],
      "text/plain": [
       "     track.popularity  danceability  energy  key  loudness  mode  speechiness  \\\n",
       "0                74.0         0.820   0.528    9   -11.179     1       0.0321   \n",
       "1                82.0         0.777   0.601    2    -5.931     1       0.1260   \n",
       "2                87.0         0.828   0.492    0    -9.744     1       0.0276   \n",
       "3                81.0         0.692   0.651    9    -8.267     1       0.0324   \n",
       "4                79.0         0.492   0.810    7    -5.315     1       0.0847   \n",
       "..                ...           ...     ...  ...       ...   ...          ...   \n",
       "554              68.0         0.714   0.434    4   -11.542     1       0.0396   \n",
       "555              66.0         0.578   0.694    5    -5.351     1       0.0706   \n",
       "556              62.0         0.494   0.170   10   -11.368     1       0.0337   \n",
       "557              66.0         0.412   0.382    2    -7.023     0       0.0497   \n",
       "558              78.0         0.503   0.358    7    -8.158     1       0.0537   \n",
       "\n",
       "     acousticness  instrumentalness  liveness  valence    tempo  duration_ms  \\\n",
       "0          0.1110           0.01860    0.2570    0.931  120.091       272107   \n",
       "1          0.0406           0.00201    0.0348    0.680   97.911       261973   \n",
       "2          0.0644           0.00428    0.1280    0.789  120.151       257800   \n",
       "3          0.2920           0.00241    0.1050    0.706   97.923       254560   \n",
       "4          0.0416           0.00379    0.1170    0.245  149.954       251840   \n",
       "..            ...               ...       ...      ...      ...          ...   \n",
       "554        0.6970           0.00000    0.0919    0.352  123.942       259040   \n",
       "555        0.0112           0.00000    0.1020    0.268  129.921       220850   \n",
       "556        0.8950           0.00000    0.1390    0.145   80.098       223213   \n",
       "557        0.5900           0.00000    0.0931    0.318   81.493       178721   \n",
       "558        0.4010           0.00000    0.1580    0.179  105.121       161367   \n",
       "\n",
       "     time_signature  weather_type  \n",
       "0                 4             1  \n",
       "1                 4             1  \n",
       "2                 4             1  \n",
       "3                 4             1  \n",
       "4                 4             1  \n",
       "..              ...           ...  \n",
       "554               4             0  \n",
       "555               4             0  \n",
       "556               4             0  \n",
       "557               3             0  \n",
       "558               4             0  \n",
       "\n",
       "[1138 rows x 15 columns]"
      ]
     },
     "execution_count": 13,
     "metadata": {},
     "output_type": "execute_result"
    }
   ],
   "source": [
    "weather_for_ML = weather_songs.iloc[:,3:]\n",
    "weather_for_ML['weather_type'] = weather_for_ML['weather_type'].map({'rain':0, 'sun':1})\n",
    "weather_for_ML"
   ]
  },
  {
   "attachments": {},
   "cell_type": "markdown",
   "metadata": {},
   "source": [
    "We need to account for the discrete variables that we have in our dataset. Specifically, we need to make sure that key, mode (major or minor), and time signature are all treated as categorical descriptions of songs rather than numerical ones."
   ]
  },
  {
   "cell_type": "code",
   "execution_count": 59,
   "metadata": {},
   "outputs": [
    {
     "name": "stdout",
     "output_type": "stream",
     "text": [
      "<class 'pandas.core.frame.DataFrame'>\n",
      "Int64Index: 1138 entries, 0 to 558\n",
      "Data columns (total 16 columns):\n",
      " #   Column            Non-Null Count  Dtype   \n",
      "---  ------            --------------  -----   \n",
      " 0   track.popularity  1138 non-null   float64 \n",
      " 1   danceability      1138 non-null   float64 \n",
      " 2   energy            1138 non-null   float64 \n",
      " 3   key               1138 non-null   category\n",
      " 4   loudness          1138 non-null   float64 \n",
      " 5   mode              1138 non-null   category\n",
      " 6   speechiness       1138 non-null   float64 \n",
      " 7   acousticness      1138 non-null   float64 \n",
      " 8   instrumentalness  1138 non-null   float64 \n",
      " 9   liveness          1138 non-null   float64 \n",
      " 10  valence           1138 non-null   float64 \n",
      " 11  tempo             1138 non-null   float64 \n",
      " 12  duration_ms       1138 non-null   int64   \n",
      " 13  time_signature    1138 non-null   category\n",
      " 14  weather_type      1138 non-null   category\n",
      " 15  zeropad           1138 non-null   int64   \n",
      "dtypes: category(4), float64(10), int64(2)\n",
      "memory usage: 120.9 KB\n"
     ]
    }
   ],
   "source": [
    "weather_for_ML[['key', 'mode', 'time_signature', 'weather_type']] = weather_for_ML[['key', 'mode', 'time_signature', 'weather_type']].astype('category')\n",
    "\n",
    "weather_for_ML['zeropad'] = 0\n",
    "\n",
    "weather_for_ML.info()"
   ]
  },
  {
   "attachments": {},
   "cell_type": "markdown",
   "metadata": {},
   "source": [
    "### Supervised Learning Classification Models\n",
    "\n",
    "After compiling a complete dataset of roughly 1100 songs that can be categorized as 'sun' or 'rain' songs, I created a train and test set from this data and used multiple machine learning approaches to attempt to correctly classify these songs."
   ]
  },
  {
   "cell_type": "code",
   "execution_count": 66,
   "metadata": {},
   "outputs": [
    {
     "name": "stdout",
     "output_type": "stream",
     "text": [
      "(910, 15)\n",
      "(228, 15)\n",
      "(910,)\n",
      "(228,)\n"
     ]
    }
   ],
   "source": [
    "from sklearn.model_selection import train_test_split\n",
    "\n",
    "train_set, test_set = train_test_split(weather_for_ML, test_size=0.2, random_state=42)\n",
    "\n",
    "#test_set, validation_set = train_test_split(test_set, test_size = 0.5, random_state=42)\n",
    "\n",
    "X_train = train_set.drop(\"weather_type\", axis=1)\n",
    "y_train = train_set[\"weather_type\"].copy()\n",
    "\n",
    "X_test = test_set.drop(\"weather_type\", axis=1)\n",
    "y_test = test_set[\"weather_type\"].copy()\n",
    "\n",
    "#X_validation = validation_set.drop(\"weather_type\", axis=1)\n",
    "#y_validation = validation_set[\"weather_type\"].copy()\n",
    "\n",
    "print(X_train.shape)\n",
    "print(X_test.shape)\n",
    "print(y_train.shape)\n",
    "print(y_test.shape)"
   ]
  },
  {
   "attachments": {},
   "cell_type": "markdown",
   "metadata": {},
   "source": [
    "To improve the performance of some of our classifier models, we standardize all of our numerical values in the dataset and one-hot-encode each of our categorical variables."
   ]
  },
  {
   "cell_type": "code",
   "execution_count": 67,
   "metadata": {},
   "outputs": [],
   "source": [
    "from sklearn.preprocessing import StandardScaler\n",
    "from sklearn.preprocessing import OneHotEncoder\n",
    "from sklearn.compose import ColumnTransformer\n",
    "\n",
    "num_cols = list(X_train.select_dtypes(include=[np.number]))\n",
    "cat_cols = list(X_train.select_dtypes(exclude=[np.number])) # key, mode, time signature\n",
    "\n",
    "pipeline=ColumnTransformer([\n",
    "    ('num',StandardScaler(),num_cols),\n",
    "    ('cat',OneHotEncoder(handle_unknown=\"ignore\"),cat_cols),\n",
    "])\n",
    "\n",
    "X_train = pipeline.fit_transform(X_train)\n",
    "\n",
    "X_test = pipeline.transform(X_test)"
   ]
  },
  {
   "attachments": {},
   "cell_type": "markdown",
   "metadata": {},
   "source": [
    "Below are *Random Forest, XGBoost, AdaBoost, and Neural Network* approaches. Decision Trees, Logistic Regression, and Naive Bayes were also implemented, but the methods included yielded the best initial results. In the context of this classification of sunny and rainy songs, there is no significant consequence to false positive or false negative errors comparatively. As a result, for the first iteration of models, our measure of choice is simply accuracy. "
   ]
  },
  {
   "attachments": {},
   "cell_type": "markdown",
   "metadata": {},
   "source": [
    "### Random Forest"
   ]
  },
  {
   "cell_type": "code",
   "execution_count": 68,
   "metadata": {},
   "outputs": [
    {
     "data": {
      "text/html": [
       "<style>#sk-container-id-4 {color: black;background-color: white;}#sk-container-id-4 pre{padding: 0;}#sk-container-id-4 div.sk-toggleable {background-color: white;}#sk-container-id-4 label.sk-toggleable__label {cursor: pointer;display: block;width: 100%;margin-bottom: 0;padding: 0.3em;box-sizing: border-box;text-align: center;}#sk-container-id-4 label.sk-toggleable__label-arrow:before {content: \"▸\";float: left;margin-right: 0.25em;color: #696969;}#sk-container-id-4 label.sk-toggleable__label-arrow:hover:before {color: black;}#sk-container-id-4 div.sk-estimator:hover label.sk-toggleable__label-arrow:before {color: black;}#sk-container-id-4 div.sk-toggleable__content {max-height: 0;max-width: 0;overflow: hidden;text-align: left;background-color: #f0f8ff;}#sk-container-id-4 div.sk-toggleable__content pre {margin: 0.2em;color: black;border-radius: 0.25em;background-color: #f0f8ff;}#sk-container-id-4 input.sk-toggleable__control:checked~div.sk-toggleable__content {max-height: 200px;max-width: 100%;overflow: auto;}#sk-container-id-4 input.sk-toggleable__control:checked~label.sk-toggleable__label-arrow:before {content: \"▾\";}#sk-container-id-4 div.sk-estimator input.sk-toggleable__control:checked~label.sk-toggleable__label {background-color: #d4ebff;}#sk-container-id-4 div.sk-label input.sk-toggleable__control:checked~label.sk-toggleable__label {background-color: #d4ebff;}#sk-container-id-4 input.sk-hidden--visually {border: 0;clip: rect(1px 1px 1px 1px);clip: rect(1px, 1px, 1px, 1px);height: 1px;margin: -1px;overflow: hidden;padding: 0;position: absolute;width: 1px;}#sk-container-id-4 div.sk-estimator {font-family: monospace;background-color: #f0f8ff;border: 1px dotted black;border-radius: 0.25em;box-sizing: border-box;margin-bottom: 0.5em;}#sk-container-id-4 div.sk-estimator:hover {background-color: #d4ebff;}#sk-container-id-4 div.sk-parallel-item::after {content: \"\";width: 100%;border-bottom: 1px solid gray;flex-grow: 1;}#sk-container-id-4 div.sk-label:hover label.sk-toggleable__label {background-color: #d4ebff;}#sk-container-id-4 div.sk-serial::before {content: \"\";position: absolute;border-left: 1px solid gray;box-sizing: border-box;top: 0;bottom: 0;left: 50%;z-index: 0;}#sk-container-id-4 div.sk-serial {display: flex;flex-direction: column;align-items: center;background-color: white;padding-right: 0.2em;padding-left: 0.2em;position: relative;}#sk-container-id-4 div.sk-item {position: relative;z-index: 1;}#sk-container-id-4 div.sk-parallel {display: flex;align-items: stretch;justify-content: center;background-color: white;position: relative;}#sk-container-id-4 div.sk-item::before, #sk-container-id-4 div.sk-parallel-item::before {content: \"\";position: absolute;border-left: 1px solid gray;box-sizing: border-box;top: 0;bottom: 0;left: 50%;z-index: -1;}#sk-container-id-4 div.sk-parallel-item {display: flex;flex-direction: column;z-index: 1;position: relative;background-color: white;}#sk-container-id-4 div.sk-parallel-item:first-child::after {align-self: flex-end;width: 50%;}#sk-container-id-4 div.sk-parallel-item:last-child::after {align-self: flex-start;width: 50%;}#sk-container-id-4 div.sk-parallel-item:only-child::after {width: 0;}#sk-container-id-4 div.sk-dashed-wrapped {border: 1px dashed gray;margin: 0 0.4em 0.5em 0.4em;box-sizing: border-box;padding-bottom: 0.4em;background-color: white;}#sk-container-id-4 div.sk-label label {font-family: monospace;font-weight: bold;display: inline-block;line-height: 1.2em;}#sk-container-id-4 div.sk-label-container {text-align: center;}#sk-container-id-4 div.sk-container {/* jupyter's `normalize.less` sets `[hidden] { display: none; }` but bootstrap.min.css set `[hidden] { display: none !important; }` so we also need the `!important` here to be able to override the default hidden behavior on the sphinx rendered scikit-learn.org. See: https://github.com/scikit-learn/scikit-learn/issues/21755 */display: inline-block !important;position: relative;}#sk-container-id-4 div.sk-text-repr-fallback {display: none;}</style><div id=\"sk-container-id-4\" class=\"sk-top-container\"><div class=\"sk-text-repr-fallback\"><pre>RandomizedSearchCV(cv=5, estimator=RandomForestClassifier(), n_iter=50,\n",
       "                   param_distributions={&#x27;max_depth&#x27;: &lt;scipy.stats._distn_infrastructure.rv_discrete_frozen object at 0x7f849a8e2dc0&gt;,\n",
       "                                        &#x27;max_features&#x27;: &lt;scipy.stats._distn_infrastructure.rv_discrete_frozen object at 0x7f849aa54280&gt;,\n",
       "                                        &#x27;n_estimators&#x27;: &lt;scipy.stats._distn_infrastructure.rv_discrete_frozen object at 0x7f84ab044d90&gt;})</pre><b>In a Jupyter environment, please rerun this cell to show the HTML representation or trust the notebook. <br />On GitHub, the HTML representation is unable to render, please try loading this page with nbviewer.org.</b></div><div class=\"sk-container\" hidden><div class=\"sk-item sk-dashed-wrapped\"><div class=\"sk-label-container\"><div class=\"sk-label sk-toggleable\"><input class=\"sk-toggleable__control sk-hidden--visually\" id=\"sk-estimator-id-10\" type=\"checkbox\" ><label for=\"sk-estimator-id-10\" class=\"sk-toggleable__label sk-toggleable__label-arrow\">RandomizedSearchCV</label><div class=\"sk-toggleable__content\"><pre>RandomizedSearchCV(cv=5, estimator=RandomForestClassifier(), n_iter=50,\n",
       "                   param_distributions={&#x27;max_depth&#x27;: &lt;scipy.stats._distn_infrastructure.rv_discrete_frozen object at 0x7f849a8e2dc0&gt;,\n",
       "                                        &#x27;max_features&#x27;: &lt;scipy.stats._distn_infrastructure.rv_discrete_frozen object at 0x7f849aa54280&gt;,\n",
       "                                        &#x27;n_estimators&#x27;: &lt;scipy.stats._distn_infrastructure.rv_discrete_frozen object at 0x7f84ab044d90&gt;})</pre></div></div></div><div class=\"sk-parallel\"><div class=\"sk-parallel-item\"><div class=\"sk-item\"><div class=\"sk-label-container\"><div class=\"sk-label sk-toggleable\"><input class=\"sk-toggleable__control sk-hidden--visually\" id=\"sk-estimator-id-11\" type=\"checkbox\" ><label for=\"sk-estimator-id-11\" class=\"sk-toggleable__label sk-toggleable__label-arrow\">estimator: RandomForestClassifier</label><div class=\"sk-toggleable__content\"><pre>RandomForestClassifier()</pre></div></div></div><div class=\"sk-serial\"><div class=\"sk-item\"><div class=\"sk-estimator sk-toggleable\"><input class=\"sk-toggleable__control sk-hidden--visually\" id=\"sk-estimator-id-12\" type=\"checkbox\" ><label for=\"sk-estimator-id-12\" class=\"sk-toggleable__label sk-toggleable__label-arrow\">RandomForestClassifier</label><div class=\"sk-toggleable__content\"><pre>RandomForestClassifier()</pre></div></div></div></div></div></div></div></div></div></div>"
      ],
      "text/plain": [
       "RandomizedSearchCV(cv=5, estimator=RandomForestClassifier(), n_iter=50,\n",
       "                   param_distributions={'max_depth': <scipy.stats._distn_infrastructure.rv_discrete_frozen object at 0x7f849a8e2dc0>,\n",
       "                                        'max_features': <scipy.stats._distn_infrastructure.rv_discrete_frozen object at 0x7f849aa54280>,\n",
       "                                        'n_estimators': <scipy.stats._distn_infrastructure.rv_discrete_frozen object at 0x7f84ab044d90>})"
      ]
     },
     "execution_count": 68,
     "metadata": {},
     "output_type": "execute_result"
    }
   ],
   "source": [
    "from sklearn.ensemble import RandomForestClassifier\n",
    "from sklearn.model_selection import RandomizedSearchCV\n",
    "\n",
    "from scipy.stats import randint \n",
    "\n",
    "forest_cls = RandomForestClassifier()\n",
    "\n",
    "param_dist = {\n",
    "  'n_estimators': randint(low=50, high=200),\n",
    "  'max_features': randint(low=5, high=15),\n",
    "  'max_depth': randint(low=5, high=15)\n",
    "}\n",
    "\n",
    "forest_rnd_search = RandomizedSearchCV(\n",
    "    estimator=forest_cls, \n",
    "    param_distributions=param_dist,\n",
    "    n_iter=50, \n",
    "    cv=5\n",
    ")\n",
    "\n",
    "forest_rnd_search.fit(X_train, y_train)\n"
   ]
  },
  {
   "cell_type": "code",
   "execution_count": 69,
   "metadata": {},
   "outputs": [
    {
     "name": "stdout",
     "output_type": "stream",
     "text": [
      "{'max_depth': 7, 'max_features': 11, 'n_estimators': 101}\n"
     ]
    }
   ],
   "source": [
    "print(forest_rnd_search.best_params_)"
   ]
  },
  {
   "cell_type": "code",
   "execution_count": 70,
   "metadata": {},
   "outputs": [],
   "source": [
    "y_predict_RF = forest_rnd_search.best_estimator_.predict(X_test)"
   ]
  },
  {
   "cell_type": "code",
   "execution_count": 71,
   "metadata": {},
   "outputs": [
    {
     "data": {
      "text/plain": [
       "0.8333333333333334"
      ]
     },
     "execution_count": 71,
     "metadata": {},
     "output_type": "execute_result"
    }
   ],
   "source": [
    "\n",
    "accuracy_score(np.rint(y_predict_RF).astype('int64'), y_test)"
   ]
  },
  {
   "cell_type": "code",
   "execution_count": 72,
   "metadata": {},
   "outputs": [
    {
     "data": {
      "text/plain": [
       "array([[ 80,  19],\n",
       "       [ 19, 110]])"
      ]
     },
     "execution_count": 72,
     "metadata": {},
     "output_type": "execute_result"
    }
   ],
   "source": [
    "confusion_matrix(y_predict_RF, y_test)"
   ]
  },
  {
   "cell_type": "code",
   "execution_count": 73,
   "metadata": {},
   "outputs": [
    {
     "name": "stdout",
     "output_type": "stream",
     "text": [
      "Mean: 0.876991150442478\n",
      "Standard deviation: 0.027418872012169537\n"
     ]
    }
   ],
   "source": [
    "from sklearn.model_selection import cross_val_score\n",
    "from sklearn.model_selection import KFold\n",
    "\n",
    "cv = KFold(n_splits=10, shuffle=True)\n",
    "forest_scores = cross_val_score(forest_rnd_search.best_estimator_, weather_for_ML.drop('weather_type', axis=1).copy(), \n",
    "                              weather_for_ML['weather_type'], scoring='accuracy', cv=cv)\n",
    "\n",
    "print(\"Mean:\", forest_scores.mean())\n",
    "print(\"Standard deviation:\", forest_scores.std())"
   ]
  },
  {
   "attachments": {},
   "cell_type": "markdown",
   "metadata": {},
   "source": [
    "### XGBoost"
   ]
  },
  {
   "cell_type": "code",
   "execution_count": 74,
   "metadata": {},
   "outputs": [
    {
     "data": {
      "text/html": [
       "<style>#sk-container-id-5 {color: black;background-color: white;}#sk-container-id-5 pre{padding: 0;}#sk-container-id-5 div.sk-toggleable {background-color: white;}#sk-container-id-5 label.sk-toggleable__label {cursor: pointer;display: block;width: 100%;margin-bottom: 0;padding: 0.3em;box-sizing: border-box;text-align: center;}#sk-container-id-5 label.sk-toggleable__label-arrow:before {content: \"▸\";float: left;margin-right: 0.25em;color: #696969;}#sk-container-id-5 label.sk-toggleable__label-arrow:hover:before {color: black;}#sk-container-id-5 div.sk-estimator:hover label.sk-toggleable__label-arrow:before {color: black;}#sk-container-id-5 div.sk-toggleable__content {max-height: 0;max-width: 0;overflow: hidden;text-align: left;background-color: #f0f8ff;}#sk-container-id-5 div.sk-toggleable__content pre {margin: 0.2em;color: black;border-radius: 0.25em;background-color: #f0f8ff;}#sk-container-id-5 input.sk-toggleable__control:checked~div.sk-toggleable__content {max-height: 200px;max-width: 100%;overflow: auto;}#sk-container-id-5 input.sk-toggleable__control:checked~label.sk-toggleable__label-arrow:before {content: \"▾\";}#sk-container-id-5 div.sk-estimator input.sk-toggleable__control:checked~label.sk-toggleable__label {background-color: #d4ebff;}#sk-container-id-5 div.sk-label input.sk-toggleable__control:checked~label.sk-toggleable__label {background-color: #d4ebff;}#sk-container-id-5 input.sk-hidden--visually {border: 0;clip: rect(1px 1px 1px 1px);clip: rect(1px, 1px, 1px, 1px);height: 1px;margin: -1px;overflow: hidden;padding: 0;position: absolute;width: 1px;}#sk-container-id-5 div.sk-estimator {font-family: monospace;background-color: #f0f8ff;border: 1px dotted black;border-radius: 0.25em;box-sizing: border-box;margin-bottom: 0.5em;}#sk-container-id-5 div.sk-estimator:hover {background-color: #d4ebff;}#sk-container-id-5 div.sk-parallel-item::after {content: \"\";width: 100%;border-bottom: 1px solid gray;flex-grow: 1;}#sk-container-id-5 div.sk-label:hover label.sk-toggleable__label {background-color: #d4ebff;}#sk-container-id-5 div.sk-serial::before {content: \"\";position: absolute;border-left: 1px solid gray;box-sizing: border-box;top: 0;bottom: 0;left: 50%;z-index: 0;}#sk-container-id-5 div.sk-serial {display: flex;flex-direction: column;align-items: center;background-color: white;padding-right: 0.2em;padding-left: 0.2em;position: relative;}#sk-container-id-5 div.sk-item {position: relative;z-index: 1;}#sk-container-id-5 div.sk-parallel {display: flex;align-items: stretch;justify-content: center;background-color: white;position: relative;}#sk-container-id-5 div.sk-item::before, #sk-container-id-5 div.sk-parallel-item::before {content: \"\";position: absolute;border-left: 1px solid gray;box-sizing: border-box;top: 0;bottom: 0;left: 50%;z-index: -1;}#sk-container-id-5 div.sk-parallel-item {display: flex;flex-direction: column;z-index: 1;position: relative;background-color: white;}#sk-container-id-5 div.sk-parallel-item:first-child::after {align-self: flex-end;width: 50%;}#sk-container-id-5 div.sk-parallel-item:last-child::after {align-self: flex-start;width: 50%;}#sk-container-id-5 div.sk-parallel-item:only-child::after {width: 0;}#sk-container-id-5 div.sk-dashed-wrapped {border: 1px dashed gray;margin: 0 0.4em 0.5em 0.4em;box-sizing: border-box;padding-bottom: 0.4em;background-color: white;}#sk-container-id-5 div.sk-label label {font-family: monospace;font-weight: bold;display: inline-block;line-height: 1.2em;}#sk-container-id-5 div.sk-label-container {text-align: center;}#sk-container-id-5 div.sk-container {/* jupyter's `normalize.less` sets `[hidden] { display: none; }` but bootstrap.min.css set `[hidden] { display: none !important; }` so we also need the `!important` here to be able to override the default hidden behavior on the sphinx rendered scikit-learn.org. See: https://github.com/scikit-learn/scikit-learn/issues/21755 */display: inline-block !important;position: relative;}#sk-container-id-5 div.sk-text-repr-fallback {display: none;}</style><div id=\"sk-container-id-5\" class=\"sk-top-container\"><div class=\"sk-text-repr-fallback\"><pre>RandomizedSearchCV(cv=5,\n",
       "                   estimator=XGBClassifier(base_score=None, booster=None,\n",
       "                                           callbacks=None,\n",
       "                                           colsample_bylevel=None,\n",
       "                                           colsample_bynode=None,\n",
       "                                           colsample_bytree=None,\n",
       "                                           early_stopping_rounds=None,\n",
       "                                           enable_categorical=True,\n",
       "                                           eval_metric=None, feature_types=None,\n",
       "                                           gamma=None, gpu_id=None,\n",
       "                                           grow_policy=None,\n",
       "                                           importance_type=None,\n",
       "                                           interaction_constraints=None,\n",
       "                                           learning_rate=...\n",
       "                                           n_estimators=100, n_jobs=None,\n",
       "                                           num_parallel_tree=None,\n",
       "                                           predictor=None, random_state=None, ...),\n",
       "                   n_iter=200,\n",
       "                   param_distributions={&#x27;colsample_bytree&#x27;: [0.6, 0.7, 0.8,\n",
       "                                                             0.9],\n",
       "                                        &#x27;gamma&#x27;: [0, 0.25, 0.5, 1],\n",
       "                                        &#x27;learning_rate&#x27;: [0.001, 0.005, 0.01,\n",
       "                                                          0.05, 0.1, 0.2, 0.3,\n",
       "                                                          0.5, 1],\n",
       "                                        &#x27;max_depth&#x27;: [5, 6, 7, 8, 9, 10, 11, 12,\n",
       "                                                      13, 14, 15],\n",
       "                                        &#x27;reg_lambda&#x27;: [0, 1],\n",
       "                                        &#x27;scale_pos_weight&#x27;: [1, 2],\n",
       "                                        &#x27;subsample&#x27;: [0.6, 0.7, 0.8, 0.9]})</pre><b>In a Jupyter environment, please rerun this cell to show the HTML representation or trust the notebook. <br />On GitHub, the HTML representation is unable to render, please try loading this page with nbviewer.org.</b></div><div class=\"sk-container\" hidden><div class=\"sk-item sk-dashed-wrapped\"><div class=\"sk-label-container\"><div class=\"sk-label sk-toggleable\"><input class=\"sk-toggleable__control sk-hidden--visually\" id=\"sk-estimator-id-13\" type=\"checkbox\" ><label for=\"sk-estimator-id-13\" class=\"sk-toggleable__label sk-toggleable__label-arrow\">RandomizedSearchCV</label><div class=\"sk-toggleable__content\"><pre>RandomizedSearchCV(cv=5,\n",
       "                   estimator=XGBClassifier(base_score=None, booster=None,\n",
       "                                           callbacks=None,\n",
       "                                           colsample_bylevel=None,\n",
       "                                           colsample_bynode=None,\n",
       "                                           colsample_bytree=None,\n",
       "                                           early_stopping_rounds=None,\n",
       "                                           enable_categorical=True,\n",
       "                                           eval_metric=None, feature_types=None,\n",
       "                                           gamma=None, gpu_id=None,\n",
       "                                           grow_policy=None,\n",
       "                                           importance_type=None,\n",
       "                                           interaction_constraints=None,\n",
       "                                           learning_rate=...\n",
       "                                           n_estimators=100, n_jobs=None,\n",
       "                                           num_parallel_tree=None,\n",
       "                                           predictor=None, random_state=None, ...),\n",
       "                   n_iter=200,\n",
       "                   param_distributions={&#x27;colsample_bytree&#x27;: [0.6, 0.7, 0.8,\n",
       "                                                             0.9],\n",
       "                                        &#x27;gamma&#x27;: [0, 0.25, 0.5, 1],\n",
       "                                        &#x27;learning_rate&#x27;: [0.001, 0.005, 0.01,\n",
       "                                                          0.05, 0.1, 0.2, 0.3,\n",
       "                                                          0.5, 1],\n",
       "                                        &#x27;max_depth&#x27;: [5, 6, 7, 8, 9, 10, 11, 12,\n",
       "                                                      13, 14, 15],\n",
       "                                        &#x27;reg_lambda&#x27;: [0, 1],\n",
       "                                        &#x27;scale_pos_weight&#x27;: [1, 2],\n",
       "                                        &#x27;subsample&#x27;: [0.6, 0.7, 0.8, 0.9]})</pre></div></div></div><div class=\"sk-parallel\"><div class=\"sk-parallel-item\"><div class=\"sk-item\"><div class=\"sk-label-container\"><div class=\"sk-label sk-toggleable\"><input class=\"sk-toggleable__control sk-hidden--visually\" id=\"sk-estimator-id-14\" type=\"checkbox\" ><label for=\"sk-estimator-id-14\" class=\"sk-toggleable__label sk-toggleable__label-arrow\">estimator: XGBClassifier</label><div class=\"sk-toggleable__content\"><pre>XGBClassifier(base_score=None, booster=None, callbacks=None,\n",
       "              colsample_bylevel=None, colsample_bynode=None,\n",
       "              colsample_bytree=None, early_stopping_rounds=None,\n",
       "              enable_categorical=True, eval_metric=None, feature_types=None,\n",
       "              gamma=None, gpu_id=None, grow_policy=None, importance_type=None,\n",
       "              interaction_constraints=None, learning_rate=None, max_bin=None,\n",
       "              max_cat_threshold=None, max_cat_to_onehot=None,\n",
       "              max_delta_step=None, max_depth=None, max_leaves=None,\n",
       "              min_child_weight=None, missing=nan, monotone_constraints=None,\n",
       "              n_estimators=100, n_jobs=None, num_parallel_tree=None,\n",
       "              predictor=None, random_state=None, ...)</pre></div></div></div><div class=\"sk-serial\"><div class=\"sk-item\"><div class=\"sk-estimator sk-toggleable\"><input class=\"sk-toggleable__control sk-hidden--visually\" id=\"sk-estimator-id-15\" type=\"checkbox\" ><label for=\"sk-estimator-id-15\" class=\"sk-toggleable__label sk-toggleable__label-arrow\">XGBClassifier</label><div class=\"sk-toggleable__content\"><pre>XGBClassifier(base_score=None, booster=None, callbacks=None,\n",
       "              colsample_bylevel=None, colsample_bynode=None,\n",
       "              colsample_bytree=None, early_stopping_rounds=None,\n",
       "              enable_categorical=True, eval_metric=None, feature_types=None,\n",
       "              gamma=None, gpu_id=None, grow_policy=None, importance_type=None,\n",
       "              interaction_constraints=None, learning_rate=None, max_bin=None,\n",
       "              max_cat_threshold=None, max_cat_to_onehot=None,\n",
       "              max_delta_step=None, max_depth=None, max_leaves=None,\n",
       "              min_child_weight=None, missing=nan, monotone_constraints=None,\n",
       "              n_estimators=100, n_jobs=None, num_parallel_tree=None,\n",
       "              predictor=None, random_state=None, ...)</pre></div></div></div></div></div></div></div></div></div></div>"
      ],
      "text/plain": [
       "RandomizedSearchCV(cv=5,\n",
       "                   estimator=XGBClassifier(base_score=None, booster=None,\n",
       "                                           callbacks=None,\n",
       "                                           colsample_bylevel=None,\n",
       "                                           colsample_bynode=None,\n",
       "                                           colsample_bytree=None,\n",
       "                                           early_stopping_rounds=None,\n",
       "                                           enable_categorical=True,\n",
       "                                           eval_metric=None, feature_types=None,\n",
       "                                           gamma=None, gpu_id=None,\n",
       "                                           grow_policy=None,\n",
       "                                           importance_type=None,\n",
       "                                           interaction_constraints=None,\n",
       "                                           learning_rate=...\n",
       "                                           n_estimators=100, n_jobs=None,\n",
       "                                           num_parallel_tree=None,\n",
       "                                           predictor=None, random_state=None, ...),\n",
       "                   n_iter=200,\n",
       "                   param_distributions={'colsample_bytree': [0.6, 0.7, 0.8,\n",
       "                                                             0.9],\n",
       "                                        'gamma': [0, 0.25, 0.5, 1],\n",
       "                                        'learning_rate': [0.001, 0.005, 0.01,\n",
       "                                                          0.05, 0.1, 0.2, 0.3,\n",
       "                                                          0.5, 1],\n",
       "                                        'max_depth': [5, 6, 7, 8, 9, 10, 11, 12,\n",
       "                                                      13, 14, 15],\n",
       "                                        'reg_lambda': [0, 1],\n",
       "                                        'scale_pos_weight': [1, 2],\n",
       "                                        'subsample': [0.6, 0.7, 0.8, 0.9]})"
      ]
     },
     "execution_count": 74,
     "metadata": {},
     "output_type": "execute_result"
    }
   ],
   "source": [
    "import xgboost as xgb\n",
    "from sklearn.model_selection import GridSearchCV\n",
    "\n",
    "\n",
    "param_grid = {\n",
    "    \"max_depth\": [i for i in range(5,16)],\n",
    "    \"learning_rate\": [.001, .005, .01, .05, .1, .2, .3, .5, 1],\n",
    "    \"gamma\": [0, 0.25, 0.5, 1],\n",
    "    \"reg_lambda\": [0, 1],\n",
    "    \"scale_pos_weight\": [i for i in range(1,3)],\n",
    "    \"subsample\": [i/10.0 for i in range(6,10)],\n",
    "    \"colsample_bytree\": [i/10.0 for i in range(6,10)],\n",
    "}\n",
    "\n",
    "xgb_cls = xgb.XGBClassifier(tree_method=\"hist\", enable_categorical=True)\n",
    "\n",
    "xgb_rnd_search = RandomizedSearchCV(\n",
    "    estimator=xgb_cls, \n",
    "    param_distributions=param_grid, \n",
    "    n_iter=200,\n",
    "    cv=5\n",
    ")\n",
    "\n",
    "xgb_rnd_search.fit(X_train, y_train)"
   ]
  },
  {
   "cell_type": "code",
   "execution_count": 75,
   "metadata": {},
   "outputs": [
    {
     "name": "stdout",
     "output_type": "stream",
     "text": [
      "{'subsample': 0.9, 'scale_pos_weight': 1, 'reg_lambda': 1, 'max_depth': 10, 'learning_rate': 0.1, 'gamma': 0.25, 'colsample_bytree': 0.8}\n"
     ]
    },
    {
     "data": {
      "text/plain": [
       "0.8421052631578947"
      ]
     },
     "execution_count": 75,
     "metadata": {},
     "output_type": "execute_result"
    }
   ],
   "source": [
    "print(xgb_rnd_search.best_params_)\n",
    "\n",
    "y_predict_XG = xgb_rnd_search.best_estimator_.predict(X_test)\n",
    "\n",
    "accuracy_score(y_predict_XG, y_test)"
   ]
  },
  {
   "cell_type": "code",
   "execution_count": 76,
   "metadata": {},
   "outputs": [
    {
     "name": "stdout",
     "output_type": "stream",
     "text": [
      "Mean: 0.8725741344511722\n",
      "Standard deviation: 0.030092009245071476\n"
     ]
    }
   ],
   "source": [
    "cv = KFold(n_splits=10, shuffle=True)\n",
    "xgb_scores = cross_val_score(xgb_rnd_search.best_estimator_, weather_for_ML.drop('weather_type', axis=1).copy(), \n",
    "                              weather_for_ML['weather_type'], scoring='accuracy', cv=cv)\n",
    "\n",
    "print(\"Mean:\", xgb_scores.mean())\n",
    "print(\"Standard deviation:\", xgb_scores.std())"
   ]
  },
  {
   "attachments": {},
   "cell_type": "markdown",
   "metadata": {},
   "source": [
    "### AdaBoost"
   ]
  },
  {
   "cell_type": "code",
   "execution_count": 77,
   "metadata": {},
   "outputs": [
    {
     "data": {
      "text/html": [
       "<style>#sk-container-id-6 {color: black;background-color: white;}#sk-container-id-6 pre{padding: 0;}#sk-container-id-6 div.sk-toggleable {background-color: white;}#sk-container-id-6 label.sk-toggleable__label {cursor: pointer;display: block;width: 100%;margin-bottom: 0;padding: 0.3em;box-sizing: border-box;text-align: center;}#sk-container-id-6 label.sk-toggleable__label-arrow:before {content: \"▸\";float: left;margin-right: 0.25em;color: #696969;}#sk-container-id-6 label.sk-toggleable__label-arrow:hover:before {color: black;}#sk-container-id-6 div.sk-estimator:hover label.sk-toggleable__label-arrow:before {color: black;}#sk-container-id-6 div.sk-toggleable__content {max-height: 0;max-width: 0;overflow: hidden;text-align: left;background-color: #f0f8ff;}#sk-container-id-6 div.sk-toggleable__content pre {margin: 0.2em;color: black;border-radius: 0.25em;background-color: #f0f8ff;}#sk-container-id-6 input.sk-toggleable__control:checked~div.sk-toggleable__content {max-height: 200px;max-width: 100%;overflow: auto;}#sk-container-id-6 input.sk-toggleable__control:checked~label.sk-toggleable__label-arrow:before {content: \"▾\";}#sk-container-id-6 div.sk-estimator input.sk-toggleable__control:checked~label.sk-toggleable__label {background-color: #d4ebff;}#sk-container-id-6 div.sk-label input.sk-toggleable__control:checked~label.sk-toggleable__label {background-color: #d4ebff;}#sk-container-id-6 input.sk-hidden--visually {border: 0;clip: rect(1px 1px 1px 1px);clip: rect(1px, 1px, 1px, 1px);height: 1px;margin: -1px;overflow: hidden;padding: 0;position: absolute;width: 1px;}#sk-container-id-6 div.sk-estimator {font-family: monospace;background-color: #f0f8ff;border: 1px dotted black;border-radius: 0.25em;box-sizing: border-box;margin-bottom: 0.5em;}#sk-container-id-6 div.sk-estimator:hover {background-color: #d4ebff;}#sk-container-id-6 div.sk-parallel-item::after {content: \"\";width: 100%;border-bottom: 1px solid gray;flex-grow: 1;}#sk-container-id-6 div.sk-label:hover label.sk-toggleable__label {background-color: #d4ebff;}#sk-container-id-6 div.sk-serial::before {content: \"\";position: absolute;border-left: 1px solid gray;box-sizing: border-box;top: 0;bottom: 0;left: 50%;z-index: 0;}#sk-container-id-6 div.sk-serial {display: flex;flex-direction: column;align-items: center;background-color: white;padding-right: 0.2em;padding-left: 0.2em;position: relative;}#sk-container-id-6 div.sk-item {position: relative;z-index: 1;}#sk-container-id-6 div.sk-parallel {display: flex;align-items: stretch;justify-content: center;background-color: white;position: relative;}#sk-container-id-6 div.sk-item::before, #sk-container-id-6 div.sk-parallel-item::before {content: \"\";position: absolute;border-left: 1px solid gray;box-sizing: border-box;top: 0;bottom: 0;left: 50%;z-index: -1;}#sk-container-id-6 div.sk-parallel-item {display: flex;flex-direction: column;z-index: 1;position: relative;background-color: white;}#sk-container-id-6 div.sk-parallel-item:first-child::after {align-self: flex-end;width: 50%;}#sk-container-id-6 div.sk-parallel-item:last-child::after {align-self: flex-start;width: 50%;}#sk-container-id-6 div.sk-parallel-item:only-child::after {width: 0;}#sk-container-id-6 div.sk-dashed-wrapped {border: 1px dashed gray;margin: 0 0.4em 0.5em 0.4em;box-sizing: border-box;padding-bottom: 0.4em;background-color: white;}#sk-container-id-6 div.sk-label label {font-family: monospace;font-weight: bold;display: inline-block;line-height: 1.2em;}#sk-container-id-6 div.sk-label-container {text-align: center;}#sk-container-id-6 div.sk-container {/* jupyter's `normalize.less` sets `[hidden] { display: none; }` but bootstrap.min.css set `[hidden] { display: none !important; }` so we also need the `!important` here to be able to override the default hidden behavior on the sphinx rendered scikit-learn.org. See: https://github.com/scikit-learn/scikit-learn/issues/21755 */display: inline-block !important;position: relative;}#sk-container-id-6 div.sk-text-repr-fallback {display: none;}</style><div id=\"sk-container-id-6\" class=\"sk-top-container\"><div class=\"sk-text-repr-fallback\"><pre>RandomizedSearchCV(cv=5, estimator=AdaBoostClassifier(), n_iter=200,\n",
       "                   param_distributions={&#x27;learning_rate&#x27;: [0.01, 0.02, 0.03,\n",
       "                                                          0.04, 0.05, 0.06,\n",
       "                                                          0.07, 0.08, 0.09, 0.1,\n",
       "                                                          0.11, 0.12, 0.13,\n",
       "                                                          0.14, 0.15, 0.16,\n",
       "                                                          0.17, 0.18, 0.19, 0.2,\n",
       "                                                          0.21, 0.22, 0.23,\n",
       "                                                          0.24, 0.25, 0.26,\n",
       "                                                          0.27, 0.28, 0.29, 0.3, ...],\n",
       "                                        &#x27;n_estimators&#x27;: [10, 20, 30, 40, 50, 60,\n",
       "                                                         70, 80, 90, 100]})</pre><b>In a Jupyter environment, please rerun this cell to show the HTML representation or trust the notebook. <br />On GitHub, the HTML representation is unable to render, please try loading this page with nbviewer.org.</b></div><div class=\"sk-container\" hidden><div class=\"sk-item sk-dashed-wrapped\"><div class=\"sk-label-container\"><div class=\"sk-label sk-toggleable\"><input class=\"sk-toggleable__control sk-hidden--visually\" id=\"sk-estimator-id-16\" type=\"checkbox\" ><label for=\"sk-estimator-id-16\" class=\"sk-toggleable__label sk-toggleable__label-arrow\">RandomizedSearchCV</label><div class=\"sk-toggleable__content\"><pre>RandomizedSearchCV(cv=5, estimator=AdaBoostClassifier(), n_iter=200,\n",
       "                   param_distributions={&#x27;learning_rate&#x27;: [0.01, 0.02, 0.03,\n",
       "                                                          0.04, 0.05, 0.06,\n",
       "                                                          0.07, 0.08, 0.09, 0.1,\n",
       "                                                          0.11, 0.12, 0.13,\n",
       "                                                          0.14, 0.15, 0.16,\n",
       "                                                          0.17, 0.18, 0.19, 0.2,\n",
       "                                                          0.21, 0.22, 0.23,\n",
       "                                                          0.24, 0.25, 0.26,\n",
       "                                                          0.27, 0.28, 0.29, 0.3, ...],\n",
       "                                        &#x27;n_estimators&#x27;: [10, 20, 30, 40, 50, 60,\n",
       "                                                         70, 80, 90, 100]})</pre></div></div></div><div class=\"sk-parallel\"><div class=\"sk-parallel-item\"><div class=\"sk-item\"><div class=\"sk-label-container\"><div class=\"sk-label sk-toggleable\"><input class=\"sk-toggleable__control sk-hidden--visually\" id=\"sk-estimator-id-17\" type=\"checkbox\" ><label for=\"sk-estimator-id-17\" class=\"sk-toggleable__label sk-toggleable__label-arrow\">estimator: AdaBoostClassifier</label><div class=\"sk-toggleable__content\"><pre>AdaBoostClassifier()</pre></div></div></div><div class=\"sk-serial\"><div class=\"sk-item\"><div class=\"sk-estimator sk-toggleable\"><input class=\"sk-toggleable__control sk-hidden--visually\" id=\"sk-estimator-id-18\" type=\"checkbox\" ><label for=\"sk-estimator-id-18\" class=\"sk-toggleable__label sk-toggleable__label-arrow\">AdaBoostClassifier</label><div class=\"sk-toggleable__content\"><pre>AdaBoostClassifier()</pre></div></div></div></div></div></div></div></div></div></div>"
      ],
      "text/plain": [
       "RandomizedSearchCV(cv=5, estimator=AdaBoostClassifier(), n_iter=200,\n",
       "                   param_distributions={'learning_rate': [0.01, 0.02, 0.03,\n",
       "                                                          0.04, 0.05, 0.06,\n",
       "                                                          0.07, 0.08, 0.09, 0.1,\n",
       "                                                          0.11, 0.12, 0.13,\n",
       "                                                          0.14, 0.15, 0.16,\n",
       "                                                          0.17, 0.18, 0.19, 0.2,\n",
       "                                                          0.21, 0.22, 0.23,\n",
       "                                                          0.24, 0.25, 0.26,\n",
       "                                                          0.27, 0.28, 0.29, 0.3, ...],\n",
       "                                        'n_estimators': [10, 20, 30, 40, 50, 60,\n",
       "                                                         70, 80, 90, 100]})"
      ]
     },
     "execution_count": 77,
     "metadata": {},
     "output_type": "execute_result"
    }
   ],
   "source": [
    "from sklearn.ensemble import AdaBoostClassifier\n",
    "\n",
    "ada_cls = AdaBoostClassifier()\n",
    "\n",
    "\n",
    "param_grid = {\n",
    "    'n_estimators': [i*10 for i in range(1, 11)],\n",
    "    'learning_rate': [i/100 for i in range(1, 101)]\n",
    "}\n",
    "\n",
    "ada_rnd_search = RandomizedSearchCV(\n",
    "    estimator=ada_cls, \n",
    "    param_distributions=param_grid, \n",
    "    n_iter=200,\n",
    "    cv=5\n",
    ")\n",
    "\n",
    "ada_rnd_search.fit(X_train, y_train)"
   ]
  },
  {
   "cell_type": "code",
   "execution_count": 78,
   "metadata": {},
   "outputs": [
    {
     "name": "stdout",
     "output_type": "stream",
     "text": [
      "{'n_estimators': 50, 'learning_rate': 0.45}\n",
      "0.8421052631578947\n"
     ]
    }
   ],
   "source": [
    "print(ada_rnd_search.best_params_)\n",
    "\n",
    "y_predict_AD = ada_rnd_search.best_estimator_.predict(X_test)\n",
    "\n",
    "print(accuracy_score(y_predict_AD, y_test))"
   ]
  },
  {
   "cell_type": "code",
   "execution_count": 79,
   "metadata": {},
   "outputs": [
    {
     "name": "stdout",
     "output_type": "stream",
     "text": [
      "Mean: 0.8787067225586089\n",
      "Standard deviation: 0.031697115195194386\n"
     ]
    }
   ],
   "source": [
    "cv = KFold(n_splits=10, shuffle=True)\n",
    "ada_scores = cross_val_score(ada_rnd_search.best_estimator_, weather_for_ML.drop('weather_type', axis=1).copy(), \n",
    "                              weather_for_ML['weather_type'], scoring='accuracy', cv=cv)\n",
    "\n",
    "print(\"Mean:\", ada_scores.mean())\n",
    "print(\"Standard deviation:\", ada_scores.std())"
   ]
  },
  {
   "attachments": {},
   "cell_type": "markdown",
   "metadata": {},
   "source": [
    "### Neural Network"
   ]
  },
  {
   "cell_type": "code",
   "execution_count": 80,
   "metadata": {},
   "outputs": [
    {
     "name": "stdout",
     "output_type": "stream",
     "text": [
      "Epoch 1/10\n",
      "182/182 - 1s - loss: 0.5987 - accuracy: 0.6429 - 1s/epoch - 7ms/step\n",
      "Epoch 2/10\n",
      "182/182 - 0s - loss: 0.3587 - accuracy: 0.8725 - 222ms/epoch - 1ms/step\n",
      "Epoch 3/10\n",
      "182/182 - 0s - loss: 0.2900 - accuracy: 0.8802 - 203ms/epoch - 1ms/step\n",
      "Epoch 4/10\n",
      "182/182 - 0s - loss: 0.2717 - accuracy: 0.8857 - 190ms/epoch - 1ms/step\n",
      "Epoch 5/10\n",
      "182/182 - 0s - loss: 0.2627 - accuracy: 0.8956 - 195ms/epoch - 1ms/step\n",
      "Epoch 6/10\n",
      "182/182 - 0s - loss: 0.2556 - accuracy: 0.8967 - 187ms/epoch - 1ms/step\n",
      "Epoch 7/10\n",
      "182/182 - 0s - loss: 0.2485 - accuracy: 0.8989 - 188ms/epoch - 1ms/step\n",
      "Epoch 8/10\n",
      "182/182 - 0s - loss: 0.2416 - accuracy: 0.9055 - 190ms/epoch - 1ms/step\n",
      "Epoch 9/10\n",
      "182/182 - 0s - loss: 0.2376 - accuracy: 0.9022 - 185ms/epoch - 1ms/step\n",
      "Epoch 10/10\n",
      "182/182 - 0s - loss: 0.2336 - accuracy: 0.9099 - 185ms/epoch - 1ms/step\n",
      "8/8 [==============================] - 0s 2ms/step - loss: 0.3404 - accuracy: 0.8553\n",
      "8/8 [==============================] - 0s 1ms/step\n",
      " Model loss on the test set: 0.3404121398925781\n",
      " Model accuracy on the test set: 85.52631735801697\n"
     ]
    }
   ],
   "source": [
    "from keras.models import Sequential\n",
    "from keras.layers import Dense\n",
    "import tensorflow as tf\n",
    "from tensorflow import keras\n",
    "\n",
    "tf.keras.utils.set_random_seed(42)\n",
    "\n",
    "def run_neural_net(X_train, y_train, X_test, y_test):\n",
    "    model = keras.Sequential([\n",
    "        keras.layers.Flatten(input_shape=(X_train.shape[1],)),\n",
    "        keras.layers.Dense(20, activation=tf.nn.relu),\n",
    "        keras.layers.Dense(12, activation=tf.nn.relu),\n",
    "        keras.layers.Dense(1, activation=tf.nn.sigmoid),\n",
    "    ])\n",
    "\n",
    "    model.compile( loss= \"binary_crossentropy\",\n",
    "\n",
    "                    optimizer = tf.keras.optimizers.Adam(),\n",
    "\n",
    "                    metrics = ['accuracy'])\n",
    "\n",
    "    model.fit(X_train, y_train, epochs=10, batch_size=5, verbose=2)\n",
    "\n",
    "    loss, accuracy = model.evaluate(X_test, y_test)\n",
    "\n",
    "    return [loss, accuracy, model.predict(X_test), model]\n",
    "\n",
    "nn1 = run_neural_net(X_train, y_train, X_test, y_test)\n",
    "\n",
    "print(f' Model loss on the test set: {nn1[0]}')\n",
    "print(f' Model accuracy on the test set: {100*nn1[1]}')"
   ]
  },
  {
   "cell_type": "code",
   "execution_count": 81,
   "metadata": {},
   "outputs": [],
   "source": [
    "nn_cls = nn1[3]"
   ]
  },
  {
   "cell_type": "code",
   "execution_count": 82,
   "metadata": {},
   "outputs": [
    {
     "data": {
      "text/plain": [
       "array([[ 83,  17],\n",
       "       [ 16, 112]])"
      ]
     },
     "execution_count": 82,
     "metadata": {},
     "output_type": "execute_result"
    }
   ],
   "source": [
    "confusion_matrix(np.rint(nn1[2]), y_test)"
   ]
  },
  {
   "attachments": {},
   "cell_type": "markdown",
   "metadata": {},
   "source": [
    "Based on the models used above, we can see that the results for the random forest, XGBoost, and AdaBoost approaches are all very similar. The neural network appears to perform the best out of all of the models, although it was not cross-validated like the other approaches. \n",
    "\n",
    "Other models such as logistic regression, decision trees, and naive bayes were attempted. However, the ones above yielded the best initial results. \n",
    "\n",
    "There are many potential next steps, including exploring more advanced hypertuning of the above models, cross-validating the neural network, and exploring new options such as KNN and advanced deep learning models. However, because accuracy here only applies to our 700 songs, I want to implement a weather playlist generator and see the song results before I iterate further. Based on the results of the playlists that are generated, I can see if the data that was used to train these models needs to be increased or changed, and determine if there is a better measure for performance than accuracy."
   ]
  },
  {
   "cell_type": "code",
   "execution_count": 83,
   "metadata": {},
   "outputs": [
    {
     "data": {
      "text/plain": [
       "['adaboost1.pkl']"
      ]
     },
     "execution_count": 83,
     "metadata": {},
     "output_type": "execute_result"
    }
   ],
   "source": [
    "import joblib\n",
    "\n",
    "joblib.dump(ada_rnd_search.best_estimator_, 'adaboost1.pkl')"
   ]
  },
  {
   "cell_type": "code",
   "execution_count": 84,
   "metadata": {},
   "outputs": [
    {
     "data": {
      "text/plain": [
       "['neuralnet1.pkl']"
      ]
     },
     "execution_count": 84,
     "metadata": {},
     "output_type": "execute_result"
    }
   ],
   "source": [
    "joblib.dump(nn_cls, 'neuralnet1.pkl')"
   ]
  },
  {
   "cell_type": "code",
   "execution_count": 85,
   "metadata": {},
   "outputs": [
    {
     "data": {
      "text/plain": [
       "['xgboost1.pkl']"
      ]
     },
     "execution_count": 85,
     "metadata": {},
     "output_type": "execute_result"
    }
   ],
   "source": [
    "joblib.dump(xgb_rnd_search.best_estimator_, 'xgboost1.pkl')"
   ]
  },
  {
   "cell_type": "code",
   "execution_count": 86,
   "metadata": {},
   "outputs": [
    {
     "data": {
      "text/plain": [
       "['forest1.pkl']"
      ]
     },
     "execution_count": 86,
     "metadata": {},
     "output_type": "execute_result"
    }
   ],
   "source": [
    "joblib.dump(forest_rnd_search.best_estimator_, 'forest1.pkl')"
   ]
  }
 ],
 "metadata": {
  "kernelspec": {
   "display_name": "base",
   "language": "python",
   "name": "python3"
  },
  "language_info": {
   "codemirror_mode": {
    "name": "ipython",
    "version": 3
   },
   "file_extension": ".py",
   "mimetype": "text/x-python",
   "name": "python",
   "nbconvert_exporter": "python",
   "pygments_lexer": "ipython3",
   "version": "3.9.12"
  },
  "orig_nbformat": 4
 },
 "nbformat": 4,
 "nbformat_minor": 2
}
